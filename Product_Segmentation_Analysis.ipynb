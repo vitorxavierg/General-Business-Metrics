{
 "cells": [
  {
   "cell_type": "code",
   "execution_count": 1,
   "id": "5341b341",
   "metadata": {},
   "outputs": [],
   "source": [
    "import pandas as pd\n",
    "import numpy as np\n",
    "import seaborn as sns\n",
    "import matplotlib.pyplot as plt"
   ]
  },
  {
   "cell_type": "markdown",
   "id": "7f114043",
   "metadata": {},
   "source": [
    "# (1) - Importing dataset"
   ]
  },
  {
   "cell_type": "code",
   "execution_count": 2,
   "id": "f367ef5b",
   "metadata": {},
   "outputs": [],
   "source": [
    "df = pd.read_excel(r\"C:\\Users\\Acer\\DataSets\\Stock_Products.xlsx\")"
   ]
  },
  {
   "cell_type": "code",
   "execution_count": 3,
   "id": "d507184c",
   "metadata": {},
   "outputs": [
    {
     "data": {
      "text/html": [
       "<div>\n",
       "<style scoped>\n",
       "    .dataframe tbody tr th:only-of-type {\n",
       "        vertical-align: middle;\n",
       "    }\n",
       "\n",
       "    .dataframe tbody tr th {\n",
       "        vertical-align: top;\n",
       "    }\n",
       "\n",
       "    .dataframe thead th {\n",
       "        text-align: right;\n",
       "    }\n",
       "</style>\n",
       "<table border=\"1\" class=\"dataframe\">\n",
       "  <thead>\n",
       "    <tr style=\"text-align: right;\">\n",
       "      <th></th>\n",
       "      <th>SKU</th>\n",
       "      <th>Warehouse</th>\n",
       "      <th>Lead_Time</th>\n",
       "      <th>Qty_Sold</th>\n",
       "    </tr>\n",
       "  </thead>\n",
       "  <tbody>\n",
       "    <tr>\n",
       "      <th>0</th>\n",
       "      <td>0</td>\n",
       "      <td>Warehouse A</td>\n",
       "      <td>9</td>\n",
       "      <td>195</td>\n",
       "    </tr>\n",
       "    <tr>\n",
       "      <th>1</th>\n",
       "      <td>1</td>\n",
       "      <td>Warehouse B</td>\n",
       "      <td>11</td>\n",
       "      <td>172</td>\n",
       "    </tr>\n",
       "    <tr>\n",
       "      <th>2</th>\n",
       "      <td>2</td>\n",
       "      <td>Warehouse C</td>\n",
       "      <td>13</td>\n",
       "      <td>497</td>\n",
       "    </tr>\n",
       "    <tr>\n",
       "      <th>3</th>\n",
       "      <td>3</td>\n",
       "      <td>Warehouse C</td>\n",
       "      <td>6</td>\n",
       "      <td>316</td>\n",
       "    </tr>\n",
       "    <tr>\n",
       "      <th>4</th>\n",
       "      <td>4</td>\n",
       "      <td>Warehouse A</td>\n",
       "      <td>11</td>\n",
       "      <td>219</td>\n",
       "    </tr>\n",
       "    <tr>\n",
       "      <th>...</th>\n",
       "      <td>...</td>\n",
       "      <td>...</td>\n",
       "      <td>...</td>\n",
       "      <td>...</td>\n",
       "    </tr>\n",
       "    <tr>\n",
       "      <th>1014</th>\n",
       "      <td>1014</td>\n",
       "      <td>Warehouse A</td>\n",
       "      <td>13</td>\n",
       "      <td>15</td>\n",
       "    </tr>\n",
       "    <tr>\n",
       "      <th>1015</th>\n",
       "      <td>1015</td>\n",
       "      <td>Warehouse A</td>\n",
       "      <td>12</td>\n",
       "      <td>16</td>\n",
       "    </tr>\n",
       "    <tr>\n",
       "      <th>1016</th>\n",
       "      <td>1016</td>\n",
       "      <td>Warehouse A</td>\n",
       "      <td>10</td>\n",
       "      <td>13</td>\n",
       "    </tr>\n",
       "    <tr>\n",
       "      <th>1017</th>\n",
       "      <td>1017</td>\n",
       "      <td>Warehouse A</td>\n",
       "      <td>14</td>\n",
       "      <td>19</td>\n",
       "    </tr>\n",
       "    <tr>\n",
       "      <th>1018</th>\n",
       "      <td>1018</td>\n",
       "      <td>Warehouse A</td>\n",
       "      <td>10</td>\n",
       "      <td>16</td>\n",
       "    </tr>\n",
       "  </tbody>\n",
       "</table>\n",
       "<p>1019 rows × 4 columns</p>\n",
       "</div>"
      ],
      "text/plain": [
       "       SKU    Warehouse  Lead_Time  Qty_Sold\n",
       "0        0  Warehouse A          9       195\n",
       "1        1  Warehouse B         11       172\n",
       "2        2  Warehouse C         13       497\n",
       "3        3  Warehouse C          6       316\n",
       "4        4  Warehouse A         11       219\n",
       "...    ...          ...        ...       ...\n",
       "1014  1014  Warehouse A         13        15\n",
       "1015  1015  Warehouse A         12        16\n",
       "1016  1016  Warehouse A         10        13\n",
       "1017  1017  Warehouse A         14        19\n",
       "1018  1018  Warehouse A         10        16\n",
       "\n",
       "[1019 rows x 4 columns]"
      ]
     },
     "execution_count": 3,
     "metadata": {},
     "output_type": "execute_result"
    }
   ],
   "source": [
    "df"
   ]
  },
  {
   "cell_type": "markdown",
   "id": "3be8cfcf",
   "metadata": {},
   "source": [
    "# (2) - Separating Qty and Lead_Time DataFrames"
   ]
  },
  {
   "cell_type": "code",
   "execution_count": 4,
   "id": "1e79db32",
   "metadata": {},
   "outputs": [],
   "source": [
    "df_qty = df[['SKU', 'Qty_Sold']].copy()\n",
    "df_lead = df[['SKU', 'Lead_Time']].copy()"
   ]
  },
  {
   "cell_type": "code",
   "execution_count": 5,
   "id": "3d67970b",
   "metadata": {},
   "outputs": [
    {
     "data": {
      "text/html": [
       "<div>\n",
       "<style scoped>\n",
       "    .dataframe tbody tr th:only-of-type {\n",
       "        vertical-align: middle;\n",
       "    }\n",
       "\n",
       "    .dataframe tbody tr th {\n",
       "        vertical-align: top;\n",
       "    }\n",
       "\n",
       "    .dataframe thead th {\n",
       "        text-align: right;\n",
       "    }\n",
       "</style>\n",
       "<table border=\"1\" class=\"dataframe\">\n",
       "  <thead>\n",
       "    <tr style=\"text-align: right;\">\n",
       "      <th></th>\n",
       "      <th>SKU</th>\n",
       "      <th>Qty_Sold</th>\n",
       "    </tr>\n",
       "  </thead>\n",
       "  <tbody>\n",
       "    <tr>\n",
       "      <th>0</th>\n",
       "      <td>0</td>\n",
       "      <td>195</td>\n",
       "    </tr>\n",
       "    <tr>\n",
       "      <th>1</th>\n",
       "      <td>1</td>\n",
       "      <td>172</td>\n",
       "    </tr>\n",
       "    <tr>\n",
       "      <th>2</th>\n",
       "      <td>2</td>\n",
       "      <td>497</td>\n",
       "    </tr>\n",
       "    <tr>\n",
       "      <th>3</th>\n",
       "      <td>3</td>\n",
       "      <td>316</td>\n",
       "    </tr>\n",
       "    <tr>\n",
       "      <th>4</th>\n",
       "      <td>4</td>\n",
       "      <td>219</td>\n",
       "    </tr>\n",
       "    <tr>\n",
       "      <th>...</th>\n",
       "      <td>...</td>\n",
       "      <td>...</td>\n",
       "    </tr>\n",
       "    <tr>\n",
       "      <th>1014</th>\n",
       "      <td>1014</td>\n",
       "      <td>15</td>\n",
       "    </tr>\n",
       "    <tr>\n",
       "      <th>1015</th>\n",
       "      <td>1015</td>\n",
       "      <td>16</td>\n",
       "    </tr>\n",
       "    <tr>\n",
       "      <th>1016</th>\n",
       "      <td>1016</td>\n",
       "      <td>13</td>\n",
       "    </tr>\n",
       "    <tr>\n",
       "      <th>1017</th>\n",
       "      <td>1017</td>\n",
       "      <td>19</td>\n",
       "    </tr>\n",
       "    <tr>\n",
       "      <th>1018</th>\n",
       "      <td>1018</td>\n",
       "      <td>16</td>\n",
       "    </tr>\n",
       "  </tbody>\n",
       "</table>\n",
       "<p>1019 rows × 2 columns</p>\n",
       "</div>"
      ],
      "text/plain": [
       "       SKU  Qty_Sold\n",
       "0        0       195\n",
       "1        1       172\n",
       "2        2       497\n",
       "3        3       316\n",
       "4        4       219\n",
       "...    ...       ...\n",
       "1014  1014        15\n",
       "1015  1015        16\n",
       "1016  1016        13\n",
       "1017  1017        19\n",
       "1018  1018        16\n",
       "\n",
       "[1019 rows x 2 columns]"
      ]
     },
     "execution_count": 5,
     "metadata": {},
     "output_type": "execute_result"
    }
   ],
   "source": [
    "df_qty"
   ]
  },
  {
   "cell_type": "code",
   "execution_count": 6,
   "id": "f7b38053",
   "metadata": {},
   "outputs": [
    {
     "data": {
      "text/html": [
       "<div>\n",
       "<style scoped>\n",
       "    .dataframe tbody tr th:only-of-type {\n",
       "        vertical-align: middle;\n",
       "    }\n",
       "\n",
       "    .dataframe tbody tr th {\n",
       "        vertical-align: top;\n",
       "    }\n",
       "\n",
       "    .dataframe thead th {\n",
       "        text-align: right;\n",
       "    }\n",
       "</style>\n",
       "<table border=\"1\" class=\"dataframe\">\n",
       "  <thead>\n",
       "    <tr style=\"text-align: right;\">\n",
       "      <th></th>\n",
       "      <th>SKU</th>\n",
       "      <th>Lead_Time</th>\n",
       "    </tr>\n",
       "  </thead>\n",
       "  <tbody>\n",
       "    <tr>\n",
       "      <th>0</th>\n",
       "      <td>0</td>\n",
       "      <td>9</td>\n",
       "    </tr>\n",
       "    <tr>\n",
       "      <th>1</th>\n",
       "      <td>1</td>\n",
       "      <td>11</td>\n",
       "    </tr>\n",
       "    <tr>\n",
       "      <th>2</th>\n",
       "      <td>2</td>\n",
       "      <td>13</td>\n",
       "    </tr>\n",
       "    <tr>\n",
       "      <th>3</th>\n",
       "      <td>3</td>\n",
       "      <td>6</td>\n",
       "    </tr>\n",
       "    <tr>\n",
       "      <th>4</th>\n",
       "      <td>4</td>\n",
       "      <td>11</td>\n",
       "    </tr>\n",
       "    <tr>\n",
       "      <th>...</th>\n",
       "      <td>...</td>\n",
       "      <td>...</td>\n",
       "    </tr>\n",
       "    <tr>\n",
       "      <th>1014</th>\n",
       "      <td>1014</td>\n",
       "      <td>13</td>\n",
       "    </tr>\n",
       "    <tr>\n",
       "      <th>1015</th>\n",
       "      <td>1015</td>\n",
       "      <td>12</td>\n",
       "    </tr>\n",
       "    <tr>\n",
       "      <th>1016</th>\n",
       "      <td>1016</td>\n",
       "      <td>10</td>\n",
       "    </tr>\n",
       "    <tr>\n",
       "      <th>1017</th>\n",
       "      <td>1017</td>\n",
       "      <td>14</td>\n",
       "    </tr>\n",
       "    <tr>\n",
       "      <th>1018</th>\n",
       "      <td>1018</td>\n",
       "      <td>10</td>\n",
       "    </tr>\n",
       "  </tbody>\n",
       "</table>\n",
       "<p>1019 rows × 2 columns</p>\n",
       "</div>"
      ],
      "text/plain": [
       "       SKU  Lead_Time\n",
       "0        0          9\n",
       "1        1         11\n",
       "2        2         13\n",
       "3        3          6\n",
       "4        4         11\n",
       "...    ...        ...\n",
       "1014  1014         13\n",
       "1015  1015         12\n",
       "1016  1016         10\n",
       "1017  1017         14\n",
       "1018  1018         10\n",
       "\n",
       "[1019 rows x 2 columns]"
      ]
     },
     "execution_count": 6,
     "metadata": {},
     "output_type": "execute_result"
    }
   ],
   "source": [
    "df_lead"
   ]
  },
  {
   "cell_type": "markdown",
   "id": "f74c627f",
   "metadata": {},
   "source": [
    "# (3) - Creating ABC Segmentation Curve for SKU's Qty"
   ]
  },
  {
   "cell_type": "code",
   "execution_count": 7,
   "id": "f731e203",
   "metadata": {},
   "outputs": [
    {
     "data": {
      "text/html": [
       "<div>\n",
       "<style scoped>\n",
       "    .dataframe tbody tr th:only-of-type {\n",
       "        vertical-align: middle;\n",
       "    }\n",
       "\n",
       "    .dataframe tbody tr th {\n",
       "        vertical-align: top;\n",
       "    }\n",
       "\n",
       "    .dataframe thead th {\n",
       "        text-align: right;\n",
       "    }\n",
       "</style>\n",
       "<table border=\"1\" class=\"dataframe\">\n",
       "  <thead>\n",
       "    <tr style=\"text-align: right;\">\n",
       "      <th></th>\n",
       "      <th>SKU</th>\n",
       "      <th>Qty_Sold</th>\n",
       "    </tr>\n",
       "  </thead>\n",
       "  <tbody>\n",
       "    <tr>\n",
       "      <th>0</th>\n",
       "      <td>0</td>\n",
       "      <td>195</td>\n",
       "    </tr>\n",
       "    <tr>\n",
       "      <th>1</th>\n",
       "      <td>1</td>\n",
       "      <td>172</td>\n",
       "    </tr>\n",
       "    <tr>\n",
       "      <th>2</th>\n",
       "      <td>2</td>\n",
       "      <td>497</td>\n",
       "    </tr>\n",
       "    <tr>\n",
       "      <th>3</th>\n",
       "      <td>3</td>\n",
       "      <td>316</td>\n",
       "    </tr>\n",
       "    <tr>\n",
       "      <th>4</th>\n",
       "      <td>4</td>\n",
       "      <td>219</td>\n",
       "    </tr>\n",
       "    <tr>\n",
       "      <th>...</th>\n",
       "      <td>...</td>\n",
       "      <td>...</td>\n",
       "    </tr>\n",
       "    <tr>\n",
       "      <th>1014</th>\n",
       "      <td>1014</td>\n",
       "      <td>15</td>\n",
       "    </tr>\n",
       "    <tr>\n",
       "      <th>1015</th>\n",
       "      <td>1015</td>\n",
       "      <td>16</td>\n",
       "    </tr>\n",
       "    <tr>\n",
       "      <th>1016</th>\n",
       "      <td>1016</td>\n",
       "      <td>13</td>\n",
       "    </tr>\n",
       "    <tr>\n",
       "      <th>1017</th>\n",
       "      <td>1017</td>\n",
       "      <td>19</td>\n",
       "    </tr>\n",
       "    <tr>\n",
       "      <th>1018</th>\n",
       "      <td>1018</td>\n",
       "      <td>16</td>\n",
       "    </tr>\n",
       "  </tbody>\n",
       "</table>\n",
       "<p>1019 rows × 2 columns</p>\n",
       "</div>"
      ],
      "text/plain": [
       "       SKU  Qty_Sold\n",
       "0        0       195\n",
       "1        1       172\n",
       "2        2       497\n",
       "3        3       316\n",
       "4        4       219\n",
       "...    ...       ...\n",
       "1014  1014        15\n",
       "1015  1015        16\n",
       "1016  1016        13\n",
       "1017  1017        19\n",
       "1018  1018        16\n",
       "\n",
       "[1019 rows x 2 columns]"
      ]
     },
     "execution_count": 7,
     "metadata": {},
     "output_type": "execute_result"
    }
   ],
   "source": [
    "df_qty"
   ]
  },
  {
   "cell_type": "code",
   "execution_count": 8,
   "id": "9802f8a5",
   "metadata": {},
   "outputs": [],
   "source": [
    "df_qty['Total_Qty'] = df_qty['Qty_Sold'].sum() # Creating total quantity column\n",
    "df_qty = df_qty.sort_values(by='Qty_Sold', ascending=False) # Ordering descending by Qty_Sold\n",
    "df_qty['Percentage'] = df_qty['Qty_Sold']/df_qty['Total_Qty'] # Getting the representativeness of each product in sales\n",
    "df_qty['Cum_Perc'] = df_qty['Percentage'].cumsum() # Getting the cummulative percentage to use in ABC Segmentation\n",
    "# Creating ABC Segmentation based on Cummulative Percentage column\n",
    "df_qty['Category'] = list(map(lambda x: 'A' if x < 0.75 else ('B' if x < 0.95 else 'C'), df_qty['Cum_Perc']))"
   ]
  },
  {
   "cell_type": "code",
   "execution_count": 9,
   "id": "ac6b3c6c",
   "metadata": {},
   "outputs": [
    {
     "data": {
      "text/plain": [
       "C    409\n",
       "B    392\n",
       "A    218\n",
       "Name: Category, dtype: int64"
      ]
     },
     "execution_count": 9,
     "metadata": {},
     "output_type": "execute_result"
    }
   ],
   "source": [
    "df_qty['Category'].value_counts() # Taking a view of product types (SKUs) per category"
   ]
  },
  {
   "cell_type": "code",
   "execution_count": 10,
   "id": "01b8183b",
   "metadata": {},
   "outputs": [
    {
     "data": {
      "text/plain": [
       "1019"
      ]
     },
     "execution_count": 10,
     "metadata": {},
     "output_type": "execute_result"
    }
   ],
   "source": [
    "df_qty['Category'].count() # Taking a view of total product types (SKUs)"
   ]
  },
  {
   "cell_type": "markdown",
   "id": "d9d107a9",
   "metadata": {},
   "source": [
    "# Comments\n",
    "#### We have 221 products on category A, which means that approximately 80% of total sales volumes are represented by 221/1019 = 21.6% of the total product types. \n",
    "\n",
    "#### Also, B and C categories, which counts 386+412= 798 products, represents the other 20% of total sales volumes, which are 798/1019 = 78% of the total product types.\n",
    "\n",
    "#### We can see the Pareto Principle, which states that 80% of the outcomes (products on stock) comes from 20% of the causes (product types)."
   ]
  },
  {
   "cell_type": "markdown",
   "id": "5013045c",
   "metadata": {},
   "source": [
    "# (4) - Plotting ABC Curve"
   ]
  },
  {
   "cell_type": "code",
   "execution_count": 11,
   "id": "6487686f",
   "metadata": {},
   "outputs": [
    {
     "data": {
      "image/png": "[encoded data removed]",
      "text/plain": [
       "<Figure size 864x288 with 2 Axes>"
      ]
     },
     "metadata": {
      "needs_background": "light"
     },
     "output_type": "display_data"
    }
   ],
   "source": [
    "category_counts = df_qty['Category'].value_counts().sort_values()\n",
    "cumulative_percentages = df_qty.groupby('Category')['Percentage'].sum()\n",
    "\n",
    "\n",
    "fig, ax1 = plt.subplots(figsize=(12, 4))\n",
    "ax2 = ax1.twinx()\n",
    "\n",
    "# Bar graph for category frequency\n",
    "category_counts.plot(kind='bar', ax=ax1, color='C4', position=0.5, width=0.7)\n",
    "ax1.set_ylabel('Frequency', color='k')\n",
    "\n",
    "# Line graph for cumulative sum of Cum_Percentage\n",
    "cumulative_percentages.plot(kind='line', ax=ax2, color='k', marker='o', ms=7)\n",
    "ax2.set_ylabel('Representativeness', color='k')\n",
    "\n",
    "# Set x-axis tick labels\n",
    "ax1.set_xticklabels(category_counts.index, rotation=0)\n",
    "\n",
    "# Adding legend\n",
    "lines1, labels1 = ax1.get_legend_handles_labels()\n",
    "lines2, labels2 = ax2.get_legend_handles_labels()\n",
    "ax2.legend(lines1 + lines2, labels1 + labels2, loc='upper left')\n",
    "\n",
    "# Title and labels\n",
    "plt.title('ABC Curve for Total Sales')\n",
    "ax1.set_xlabel('Category')\n",
    "\n",
    "plt.show()"
   ]
  },
  {
   "cell_type": "markdown",
   "id": "a3dfa71e",
   "metadata": {},
   "source": [
    "# Comments\n",
    "#### We can see from the above chart for category A, we have 221 products which represents approximately 80% of total sales volumes (percentage line).\n",
    "\n",
    "#### Categories B and C have the majority product types (798 product types) and represents approximately 20% of total sales volumes."
   ]
  },
  {
   "cell_type": "markdown",
   "id": "2edcc2bc",
   "metadata": {},
   "source": [
    "# (5) - Boxplot Analysis and Creating Categories for Lead Times"
   ]
  },
  {
   "cell_type": "markdown",
   "id": "254bf59c",
   "metadata": {},
   "source": [
    "# Creating boxplot to analyze distribution of Lead Times"
   ]
  },
  {
   "cell_type": "code",
   "execution_count": 20,
   "id": "58e77c0b",
   "metadata": {},
   "outputs": [
    {
     "data": {
      "text/plain": [
       "<Axes: xlabel='Lead_Time'>"
      ]
     },
     "execution_count": 20,
     "metadata": {},
     "output_type": "execute_result"
    },
    {
     "data": {
      "image/png": "[encoded data removed]",
      "text/plain": [
       "<Figure size 640x480 with 1 Axes>"
      ]
     },
     "metadata": {},
     "output_type": "display_data"
    }
   ],
   "source": [
    "sns.boxplot(data=df_lead, x='Lead_Time')"
   ]
  },
  {
   "cell_type": "markdown",
   "id": "4887a515",
   "metadata": {},
   "source": [
    "# Comments\n",
    "#### From the boxplot it's possible to see that 50% of the lead times values falls between 3 and 7 days (values between 1st and 3rd quartile). \n",
    "\n",
    "#### Also, the minimum value is 2 days and maximum is 13. We have some outliers with 14 days. The best practice when dealing with outliers is use the median, so we are going to use the median value = 5 days to split the lead times into the categories. \n",
    "\n",
    "#### We are going to use values 0, 5 and 10 to represent low, medium and high lead times."
   ]
  },
  {
   "cell_type": "code",
   "execution_count": 10,
   "id": "f1b43209",
   "metadata": {},
   "outputs": [],
   "source": [
    "df_lead['Category'] = list(map(lambda x: '0' if x < 5 else ('5' if x == 5 else '10'), df_lead['Lead_Time']))"
   ]
  },
  {
   "cell_type": "code",
   "execution_count": 13,
   "id": "bb69a938",
   "metadata": {},
   "outputs": [
    {
     "data": {
      "text/plain": [
       "0     440\n",
       "10    423\n",
       "5     156\n",
       "Name: Category, dtype: int64"
      ]
     },
     "execution_count": 13,
     "metadata": {},
     "output_type": "execute_result"
    }
   ],
   "source": [
    "df_lead['Category'].value_counts()"
   ]
  },
  {
   "cell_type": "markdown",
   "id": "623e33e0",
   "metadata": {},
   "source": [
    "# (6) - Merging the DataFrames to analyze categories together"
   ]
  },
  {
   "cell_type": "code",
   "execution_count": 25,
   "id": "c2aeeafa",
   "metadata": {},
   "outputs": [],
   "source": [
    "df_merged = pd.merge(df_lead, df_qty[['SKU', 'Category']], on='SKU')\n",
    "df_merged = df_merged[['SKU', 'Category_y', 'Category_x']]\n",
    "df_merged.rename(columns={'Category_x': 'Lead_Times'}, inplace=True)\n",
    "df_merged.rename(columns={'Category_y': 'ABC'}, inplace=True)\n",
    "df_merged['Final_Segmented'] = df_merged['ABC']+df_merged['Lead_Times']\n",
    "df_final = df_merged.groupby('Final_Segmented')['SKU'].count().reset_index()"
   ]
  },
  {
   "cell_type": "code",
   "execution_count": 90,
   "id": "f54f9c94",
   "metadata": {
    "scrolled": false
   },
   "outputs": [
    {
     "data": {
      "image/png": "[encoded data removed]",
      "text/plain": [
       "<Figure size 640x480 with 1 Axes>"
      ]
     },
     "metadata": {},
     "output_type": "display_data"
    }
   ],
   "source": [
    "colors = ['green' if cat.startswith('A') else 'blue' if cat.startswith('B') else 'yellow' for cat in df_final['Final_Segmented']]\n",
    "\n",
    "plt.bar(df_final['Final_Segmented'], df_final['SKU'], color=colors)\n",
    "\n",
    "\n",
    "for category, value in zip(df_final['Final_Segmented'], df_final['SKU']):\n",
    "    plt.text(category, value + 1, str(value), ha='center', va='bottom', fontsize=10)\n",
    "    \n",
    "# Adding labels and title\n",
    "plt.xlabel('Categories')\n",
    "plt.ylabel('Frequency')\n",
    "plt.title('Frequency by Category')\n",
    "\n",
    "# Display the plot\n",
    "plt.show()"
   ]
  },
  {
   "cell_type": "markdown",
   "id": "1ac59bb7",
   "metadata": {},
   "source": [
    "# Final Considerations\n",
    "\n",
    "### A0 → Represents 75% of sales volumes, and contains 22% of total product types. In addition, it has a low lead time\n",
    "\n",
    "### A5 → Represents 75% of sales volumes, and contains 22% of total product types. In addition, it has an intermediate lead time\n",
    "\n",
    "### A10 → Represents 75% of sales volumes, and contains 22% of total product types. In addition, it has a high lead time\n",
    "\n",
    "### B0 → Represents 20% of sales volumes, and contains 38% of total product types. In addition, it has a short lead time\n",
    "\n",
    "### B5 -> Represents 20% of sales volumes, and contains 38% of total product types. In addition, it has an intermediate lead time\n",
    "\n",
    "### B10 → Represents 20% of sales volumes, and contains 38% of total product types. In addition, it has a high lead time\n",
    "\n",
    "### C0 → Represents 5% of sales volumes, and contains 40% of total product types. In addition, it has a low lead time\n",
    "\n",
    "### C5 → Represents 5% of sales volumes, and contains 40% of total product types. In addition, it has an intermediate lead time\n",
    "\n",
    "### C10 → Represents 5% of sales volumes, and contains 40% of total product types. In addition, it has a high lead time"
   ]
  }
 ],
 "metadata": {
  "kernelspec": {
   "display_name": "Python 3 (ipykernel)",
   "language": "python",
   "name": "python3"
  },
  "language_info": {
   "codemirror_mode": {
    "name": "ipython",
    "version": 3
   },
   "file_extension": ".py",
   "mimetype": "text/x-python",
   "name": "python",
   "nbconvert_exporter": "python",
   "pygments_lexer": "ipython3",
   "version": "3.9.12"
  }
 },
 "nbformat": 4,
 "nbformat_minor": 5
}
